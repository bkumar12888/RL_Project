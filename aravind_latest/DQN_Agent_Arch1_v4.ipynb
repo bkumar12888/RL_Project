{
 "cells": [
  {
   "cell_type": "markdown",
   "metadata": {},
   "source": [
    "### Cab-Driver Agent"
   ]
  },
  {
   "cell_type": "markdown",
   "metadata": {},
   "source": [
    "#### Defining Time Matrix"
   ]
  },
  {
   "cell_type": "code",
   "execution_count": 1,
   "metadata": {},
   "outputs": [
    {
     "name": "stderr",
     "output_type": "stream",
     "text": [
      "Using TensorFlow backend.\n"
     ]
    }
   ],
   "source": [
    "# Importing libraries\n",
    "import numpy as np\n",
    "import random\n",
    "import math\n",
    "from collections import deque\n",
    "import collections\n",
    "import pickle\n",
    "import pylab\n",
    "\n",
    "# for building DQN model\n",
    "from keras import layers\n",
    "from keras import Sequential\n",
    "from keras.layers import Dense, Activation, Flatten\n",
    "from keras.optimizers import Adam\n",
    "\n",
    "# for plotting graphs\n",
    "import matplotlib.pyplot as plt\n",
    "\n",
    "# Import the environment\n",
    "from Env import CabDriver\n",
    "\n",
    "env = CabDriver()"
   ]
  },
  {
   "cell_type": "code",
   "execution_count": 2,
   "metadata": {},
   "outputs": [],
   "source": [
    "# Loading the time matrix provided\n",
    "Time_matrix = np.load(\"TM.npy\")"
   ]
  },
  {
   "cell_type": "code",
   "execution_count": 3,
   "metadata": {},
   "outputs": [],
   "source": [
    "# Creating directories for saving the model and graph if the directories doesn't exist\n",
    "import os\n",
    "directory_model = 'save_model'\n",
    "directory_graph = 'save_graph'\n",
    "directory_pickle = 'save_pickle'\n",
    "\n",
    "if not os.path.exists(directory_model):\n",
    "    os.makedirs(directory_model)\n",
    "\n",
    "if not os.path.exists(directory_graph):\n",
    "    os.makedirs(directory_graph)\n",
    "    \n",
    "if not os.path.exists(directory_pickle):\n",
    "    os.makedirs(directory_pickle)"
   ]
  },
  {
   "cell_type": "markdown",
   "metadata": {},
   "source": [
    "#### Tracking the state-action pairs for checking convergence\n"
   ]
  },
  {
   "cell_type": "code",
   "execution_count": 4,
   "metadata": {},
   "outputs": [],
   "source": [
    "def encode_track_state(state):\n",
    "    return ('-'.join(str(e) for e in state))"
   ]
  },
  {
   "cell_type": "code",
   "execution_count": 5,
   "metadata": {},
   "outputs": [],
   "source": [
    "def encode_track_action(action):\n",
    "    return ('-'.join(str(e) for e in action))"
   ]
  },
  {
   "cell_type": "code",
   "execution_count": 6,
   "metadata": {
    "colab": {},
    "colab_type": "code",
    "id": "vs73iv8fHOxV"
   },
   "outputs": [],
   "source": [
    "# Initialise states-action pair to be tracked\n",
    "# Tracking q-values for all possible moves from position 4 at the start of the episode\n",
    "def initialise_tracking_states(episodes):\n",
    "    sample_q_values = [('4-0-0', '1-2'), ('4-0-0', '2-1'), ('4-0-0', '1-3'), ('4-0-0', '3-1'), ('4-0-0', '1-4'), ('4-0-0', '4-1'), ('4-0-0', '1-5'), ('4-0-0', '5-1'), ('4-0-0', '2-3'), \n",
    "                       ('4-0-0', '3-2'), ('4-0-0', '2-4'), ('4-0-0', '4-2'), ('4-0-0', '2-5'), ('4-0-0', '5-2'), ('4-0-0', '3-4'), ('4-0-0', '4-3'), ('4-0-0', '3-5'), ('4-0-0', '5-3'), \n",
    "                       ('4-0-0', '4-5'), ('4-0-0', '5-4'), ('4-0-0', '0-0')]    \n",
    "    for q_value in sample_q_values:\n",
    "        state = q_value[0]\n",
    "        action = q_value[1]\n",
    "        States_track[state][action] = []      "
   ]
  },
  {
   "cell_type": "code",
   "execution_count": 7,
   "metadata": {},
   "outputs": [],
   "source": [
    "# Function to save q-value for tracking states-action pair\n",
    "def save_tracking_states(curr_state, curr_action, curr_q_value):\n",
    "    for state in States_track.keys():\n",
    "        if state == curr_state:\n",
    "            for action in States_track.values():\n",
    "                if action == curr_action:\n",
    "                    States_track[state][action].append(curr_q_value)"
   ]
  },
  {
   "cell_type": "code",
   "execution_count": 8,
   "metadata": {},
   "outputs": [],
   "source": [
    "#Defining a function to save the Q-dictionary as a pickle file\n",
    "def save_obj(obj, name ):\n",
    "    with open(name + '.pkl', 'wb') as f:\n",
    "        pickle.dump(obj, f, pickle.HIGHEST_PROTOCOL)"
   ]
  },
  {
   "cell_type": "markdown",
   "metadata": {},
   "source": [
    "### Agent Class\n",
    "\n",
    "If you are using this framework, you need to fill the following to complete the following code block:\n",
    "1. State and Action Size\n",
    "2. Hyperparameters\n",
    "3. Create a neural-network model in function 'build_model()'\n",
    "4. Define epsilon-greedy strategy in function 'get_action()'\n",
    "5. Complete the function 'append_sample()'. This function appends the recent experience tuple <state, action, reward, new-state> to the memory\n",
    "6. Complete the 'train_model()' function with following logic:\n",
    "   - If the memory size is greater than mini-batch size, you randomly sample experiences from memory as per the mini-batch size and do the following:\n",
    "      - Initialise your input and output batch for training the model\n",
    "      - Calculate the target Q value for each sample: reward + gamma*max(Q(s'a,))\n",
    "      - Get Q(s', a) values from the last trained model\n",
    "      - Update the input batch as your encoded state and output batch as your Q-values\n",
    "      - Then fit your DQN model using the updated input and output batch."
   ]
  },
  {
   "cell_type": "code",
   "execution_count": 9,
   "metadata": {},
   "outputs": [],
   "source": [
    "class DQNAgent:\n",
    "    \n",
    "    def __init__(self, state_size, action_size, load_weights):\n",
    "        # Define size of state and action\n",
    "        self.state_size = state_size\n",
    "        self.action_size = action_size\n",
    "\n",
    "        # Write here: Specify you hyper parameters for the DQN\n",
    "        self.discount_factor = 0.99\n",
    "        self.learning_rate =  0.001      \n",
    "        self.epsilon = 1.0\n",
    "        self.epsilon_decay = 0.999\n",
    "        self.epsilon_min = 0.01\n",
    "        \n",
    "        self.batch_size = 32 \n",
    "        self.train_start = 50\n",
    "        # create replay memory using deque\n",
    "        self.memory = deque(maxlen=1000)\n",
    "\n",
    "        # create main model and target model\n",
    "        self.model = self.build_model()\n",
    "        self.target_model = self.build_model()\n",
    "        \n",
    "        self.load_model_weights = load_weights\n",
    "        \n",
    "        if self.load_model_weights:\n",
    "            self.model.load_weights(\"./cardriver_dqn.h5\")\n",
    "        \n",
    "    def save_model_graph(self, suffix):\n",
    "        # serialize model to JSON\n",
    "        model_json = self.model.to_json()\n",
    "        with open(\"./\" + directory_model + \"/cardriver_model_\" + suffix + \".json\", \"w\") as json_file:\n",
    "            json_file.write(model_json)\n",
    "\n",
    "    # approximate Q function using Neural Network\n",
    "    def build_model(self):      \n",
    "        model = Sequential()\n",
    "        \n",
    "        # input layer - input dimension would be state size\n",
    "        model.add(Dense(32, input_dim=self.state_size, activation='relu', kernel_initializer='he_uniform'))\n",
    "        \n",
    "        # layer - 2\n",
    "        model.add(Dense(32, activation='relu', kernel_initializer='he_uniform'))\n",
    "        \n",
    "        # layer - 3\n",
    "        model.add(Dense(32, activation='relu', kernel_initializer='he_uniform'))\n",
    "        \n",
    "        # layer - 4\n",
    "        model.add(Dense(32, activation='relu', kernel_initializer='he_uniform'))\n",
    "\n",
    "        # the output layer: output size is total number of possible actions     \n",
    "        model.add(Dense(self.action_size, activation='relu', kernel_initializer='he_uniform'))\n",
    "        \n",
    "        model.compile(loss='mse', optimizer=Adam(lr=self.learning_rate))\n",
    "        model.summary()\n",
    "        return model\n",
    "\n",
    "    def update_target_model(self):\n",
    "        # update the target Q-value network to current Q-value network after training for a episode. \n",
    "        # this means that weights an biases of target Q-value network will become same as current Q-value network.\n",
    "        self.target_model.set_weights(self.model.get_weights())\n",
    "    \n",
    "    def get_action(self, state, possible_actions):      \n",
    "        if np.random.rand() <= self.epsilon:\n",
    "            # explore: choose a random action from all possible actions\n",
    "            # possible actions list would be given by environment\n",
    "            choice = random.choice(possible_actions)\n",
    "        else:\n",
    "            # choose the action with the highest q(s, a)\n",
    "            q_values = self.model.predict(state)\n",
    "            possible_action_q_values = list(q_values[0][index] for index in possible_actions)\n",
    "            max_q_value = np.max(possible_action_q_values)\n",
    "            choice = np.where(q_values[0] == max_q_value)\n",
    "            choice = choice[0][0]\n",
    "            \n",
    "        return choice\n",
    "        \n",
    "    def get_q_values(self, state):\n",
    "        return self.model.predict(state)[0]\n",
    "    \n",
    "    def append_sample(self, state, action, reward, next_state, done):\n",
    "        # append the tuple (s, a, r, s', done) to memory (replay buffer) after every action\n",
    "        self.memory.append((state, action, reward, next_state, done))\n",
    "    \n",
    "        # decay in ε after we generate each sample from the environment\n",
    "        if self.epsilon > self.epsilon_min:\n",
    "            self.epsilon *= self.epsilon_decay    \n",
    "    \n",
    "    def train_model(self):\n",
    "        # don't start the model training until memory queue is of certain size\n",
    "        if len(self.memory) < self.train_start:\n",
    "            return\n",
    "        \n",
    "        # sample batch from the memory\n",
    "        batch_size = min(self.batch_size, len(self.memory))\n",
    "        # pick samples randomly from replay memory (with batch_size) and train the network\n",
    "        mini_batch = random.sample(self.memory, self.batch_size)\n",
    "\n",
    "        # initialise your input and output batch for training the model\n",
    "        update_input = np.zeros((self.batch_size, self.state_size))\n",
    "        update_target = np.zeros((self.batch_size, self.state_size)) \n",
    "        actions, rewards, terminal_states = [], [], []\n",
    "\n",
    "        for i in range(self.batch_size):\n",
    "\n",
    "            update_input[i] = mini_batch[i][0]\n",
    "            actions.append(mini_batch[i][1])\n",
    "            rewards.append(mini_batch[i][2])\n",
    "            update_target[i] = mini_batch[i][3]\n",
    "            terminal_states.append(mini_batch[i][4])\n",
    "\n",
    "        # predict the target from earlier model\n",
    "        target = self.model.predict(update_input)\n",
    "\n",
    "        # get the target for the Q-network\n",
    "        target_qval = self.target_model.predict(update_target)  \n",
    "\n",
    "        for i in range(self.batch_size):\n",
    "            if terminal_states[i]:\n",
    "                target[i][actions[i]] = rewards[i]\n",
    "            else: # non-terminal state\n",
    "                target[i][actions[i]] = rewards[i] + self.discount_factor * np.max(target_qval[i])\n",
    "\n",
    "        # fit your model and track the loss values\n",
    "        self.model.fit(update_input, target, batch_size=self.batch_size, epochs=1, verbose=0)\n",
    "\n",
    "    def save(self, name):\n",
    "        self.model.save_weights(name)\n",
    "        \n",
    "    def get_model_weights(self):\n",
    "        return self.model.get_weights()"
   ]
  },
  {
   "cell_type": "code",
   "execution_count": 10,
   "metadata": {},
   "outputs": [],
   "source": [
    "Episodes = 200"
   ]
  },
  {
   "cell_type": "markdown",
   "metadata": {},
   "source": [
    "### DQN block"
   ]
  },
  {
   "cell_type": "code",
   "execution_count": 11,
   "metadata": {},
   "outputs": [
    {
     "name": "stdout",
     "output_type": "stream",
     "text": [
      "_________________________________________________________________\n",
      "Layer (type)                 Output Shape              Param #   \n",
      "=================================================================\n",
      "dense_1 (Dense)              (None, 32)                1184      \n",
      "_________________________________________________________________\n",
      "dense_2 (Dense)              (None, 32)                1056      \n",
      "_________________________________________________________________\n",
      "dense_3 (Dense)              (None, 32)                1056      \n",
      "_________________________________________________________________\n",
      "dense_4 (Dense)              (None, 32)                1056      \n",
      "_________________________________________________________________\n",
      "dense_5 (Dense)              (None, 21)                693       \n",
      "=================================================================\n",
      "Total params: 5,045\n",
      "Trainable params: 5,045\n",
      "Non-trainable params: 0\n",
      "_________________________________________________________________\n",
      "_________________________________________________________________\n",
      "Layer (type)                 Output Shape              Param #   \n",
      "=================================================================\n",
      "dense_6 (Dense)              (None, 32)                1184      \n",
      "_________________________________________________________________\n",
      "dense_7 (Dense)              (None, 32)                1056      \n",
      "_________________________________________________________________\n",
      "dense_8 (Dense)              (None, 32)                1056      \n",
      "_________________________________________________________________\n",
      "dense_9 (Dense)              (None, 32)                1056      \n",
      "_________________________________________________________________\n",
      "dense_10 (Dense)             (None, 21)                693       \n",
      "=================================================================\n",
      "Total params: 5,045\n",
      "Trainable params: 5,045\n",
      "Non-trainable params: 0\n",
      "_________________________________________________________________\n",
      "Episode: 200   score: 1080   memory length: 1000   epsilon: 0.009998671593271896\n"
     ]
    },
    {
     "data": {
      "image/png": "[encoded data removed]",
      "text/plain": [
       "<Figure size 432x288 with 1 Axes>"
      ]
     },
     "metadata": {
      "needs_background": "light"
     },
     "output_type": "display_data"
    }
   ],
   "source": [
    "scores, episodes = [], []\n",
    "state = env.state_init\n",
    "state_encoded = env.state_encod_arch1(state)\n",
    "state_size = len(state_encoded)\n",
    "action_size = len(env.action_space)\n",
    "agent = DQNAgent(state_size, action_size, False)\n",
    "States_track = collections.defaultdict(dict)\n",
    "initialise_tracking_states(Episodes)\n",
    "\n",
    "for episode in range(Episodes):\n",
    "    \n",
    "    terminal_state = False\n",
    "    score = 0\n",
    "    reward = 0\n",
    "    total_days = 1\n",
    "    previous_day = 0\n",
    "    current_day = 0\n",
    "    env.reset()\n",
    "    \n",
    "    # reseting the state for every episode\n",
    "    # initial state would be a random one of the five possible locations starting from the beginning\n",
    "    action_space, state_space, state = env.reset()\n",
    "    \n",
    "    # storing initial state \n",
    "    track_state = state\n",
    "                       \n",
    "    while not terminal_state:\n",
    "\n",
    "        state_encoded = env.state_encod_arch1(state)\n",
    "        state_encoded = np.reshape(state_encoded, [1, state_size])\n",
    "        \n",
    "        # get possible list of actions from the environment\n",
    "        possible_actions, action_list = env.requests(state)\n",
    "        \n",
    "        # pick epsilon-greedy action from possible actions for the current state\n",
    "        # possible actions is given by the environment\n",
    "        action = agent.get_action(state_encoded, possible_actions)\n",
    "        \n",
    "        # evaluate your reward and next state\n",
    "        reward = env.reward_func(state, env.action_space[action], Time_matrix)\n",
    "        next_state = env.next_state_func(state, env.action_space[action], Time_matrix)\n",
    "        next_state_encoded = env.state_encod_arch1(next_state)\n",
    "        next_state_encoded = np.reshape(next_state_encoded, [1, state_size])\n",
    "        \n",
    "        # append the experience to the memory\n",
    "        agent.append_sample(state_encoded, action, reward, next_state_encoded, terminal_state)\n",
    "        \n",
    "        # train the model by calling function agent.train_model\n",
    "        agent.train_model()\n",
    "        \n",
    "        # keep track of rewards\n",
    "        score += reward\n",
    "        previous_day = state[2]\n",
    "        state = next_state\n",
    "        current_day = state[2]\n",
    "        if previous_day != current_day:\n",
    "            total_days = total_days + 1\n",
    "            \n",
    "        if total_days > 30:\n",
    "            terminal_state = True\n",
    "            \n",
    "        # once you reach end of 30 days, target model is updated, scores and episode saved\n",
    "        if terminal_state == True:\n",
    "            agent.update_target_model()\n",
    "            scores.append(score)\n",
    "            episodes.append(episode)  \n",
    "    \n",
    "    # this is track q-value convergence\n",
    "    # once the episode is complete, q-values will be predicted for all possible actions for the initial state\n",
    "    # this way is much easier to track because other states would be difficult to track as it is heavily dependant on the location and action taken\n",
    "    track_state_encode = encode_track_state(track_state)\n",
    "    track_state_encoded = env.state_encod_arch1(track_state)\n",
    "    track_state_encoded = np.reshape(track_state_encoded, [1, state_size])\n",
    "    track_q_values = agent.get_q_values(track_state_encoded)\n",
    "    \n",
    "    for index in range(len(env.action_space)):\n",
    "        track_action_encode = encode_track_action(env.action_space[index])\n",
    "        save_tracking_states(track_state_encode, track_action_encode, track_q_values[index])\n",
    "    \n",
    "    #save the model \n",
    "    if (episode + 1) % 200 == 0:\n",
    "        print(\"Episode:\", episode + 1, \"  score:\", score, \"  memory length:\", len(agent.memory), \"  epsilon:\", agent.epsilon)\n",
    "        pylab.plot(episodes, scores)\n",
    "        pylab.savefig(\"./\" + directory_graph + \"/cardriver_dqn_\" + str(score) + \".png\")\n",
    "        agent.save(\"./\" + directory_model + \"/cardriver_dqn_\" + str(score) + \".h5\")\n",
    "        agent.save_model_graph(str(score))\n",
    "        # this is the only one required for assignment. this will create pickle file\n",
    "        save_obj(agent.get_model_weights(), \"./\" + directory_model + \"/cardriver_dqn_\" + str(score))\n",
    "        "
   ]
  },
  {
   "cell_type": "markdown",
   "metadata": {},
   "source": [
    "### Tracking Convergence"
   ]
  },
  {
   "cell_type": "code",
   "execution_count": 12,
   "metadata": {},
   "outputs": [
    {
     "data": {
      "text/plain": [
       "[<matplotlib.lines.Line2D at 0x190dec0c048>]"
      ]
     },
     "execution_count": 12,
     "metadata": {},
     "output_type": "execute_result"
    },
    {
     "data": {
      "image/png": "[encoded data removed]",
      "text/plain": [
       "<Figure size 432x288 with 1 Axes>"
      ]
     },
     "metadata": {
      "needs_background": "light"
     },
     "output_type": "display_data"
    }
   ],
   "source": [
    "# convergence with scores\n",
    "pylab.plot(episodes, scores)"
   ]
  },
  {
   "cell_type": "code",
   "execution_count": 14,
   "metadata": {},
   "outputs": [
    {
     "name": "stdout",
     "output_type": "stream",
     "text": [
      "{'1-2': [], '2-1': [], '1-3': [], '3-1': [], '1-4': [], '4-1': [], '1-5': [], '5-1': [], '2-3': [], '3-2': [], '2-4': [], '4-2': [], '2-5': [], '5-2': [], '3-4': [], '4-3': [], '3-5': [], '5-3': [], '4-5': [], '5-4': [], '0-0': []}\n"
     ]
    },
    {
     "data": {
      "image/png": "[encoded data removed]",
      "text/plain": [
       "<Figure size 432x288 with 1 Axes>"
      ]
     },
     "metadata": {
      "needs_background": "light"
     },
     "output_type": "display_data"
    }
   ],
   "source": [
    "import matplotlib.pylab\n",
    "from collections import Counter\n",
    "\n",
    "# Plot - 1\n",
    "lists = States_track['4-0-0']['1-2']\n",
    "\n",
    "print(States_track['4-0-0'])\n",
    "\n",
    "pylab.plot(Counter(lists).keys(), Counter(lists).values())\n",
    "pylab.show()"
   ]
  },
  {
   "cell_type": "markdown",
   "metadata": {},
   "source": [
    "#### Epsilon-decay sample function"
   ]
  },
  {
   "cell_type": "markdown",
   "metadata": {},
   "source": [
    "<div class=\"alert alert-block alert-info\">\n",
    "Try building a similar epsilon-decay function for your model.\n",
    "</div>"
   ]
  },
  {
   "cell_type": "code",
   "execution_count": null,
   "metadata": {},
   "outputs": [],
   "source": [
    "time = np.arange(0,10000)\n",
    "epsilon = []\n",
    "for i in range(0,10000):\n",
    "    epsilon.append(0 + (1 - 0) * np.exp(-0.0009*i))"
   ]
  },
  {
   "cell_type": "code",
   "execution_count": null,
   "metadata": {},
   "outputs": [],
   "source": [
    "plt.plot(time, epsilon)\n",
    "plt.show()"
   ]
  },
  {
   "cell_type": "code",
   "execution_count": null,
   "metadata": {},
   "outputs": [],
   "source": []
  }
 ],
 "metadata": {
  "kernelspec": {
   "display_name": "Python 3",
   "language": "python",
   "name": "python3"
  },
  "language_info": {
   "codemirror_mode": {
    "name": "ipython",
    "version": 3
   },
   "file_extension": ".py",
   "mimetype": "text/x-python",
   "name": "python",
   "nbconvert_exporter": "python",
   "pygments_lexer": "ipython3",
   "version": "3.6.8"
  }
 },
 "nbformat": 4,
 "nbformat_minor": 2
}
