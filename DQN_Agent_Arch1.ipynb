{
 "cells": [
  {
   "cell_type": "markdown",
   "metadata": {},
   "source": [
    "### Cab-Driver Agent"
   ]
  },
  {
   "cell_type": "markdown",
   "metadata": {},
   "source": [
    "#### Defining Time Matrix"
   ]
  },
  {
   "cell_type": "code",
   "execution_count": null,
   "metadata": {},
   "outputs": [],
   "source": [
    "# Importing libraries\n",
    "import numpy as np\n",
    "import random\n",
    "import math\n",
    "from collections import deque\n",
    "import collections\n",
    "import pickle\n",
    "import pylab\n",
    "import os\n",
    "\n",
    "# for building DQN model\n",
    "from keras import layers\n",
    "from keras import Sequential\n",
    "from keras.layers import Dense, Activation, Flatten\n",
    "from keras.optimizers import Adam\n",
    "\n",
    "# for plotting graphs\n",
    "import matplotlib.pyplot as plt"
   ]
  },
  {
   "cell_type": "code",
   "execution_count": null,
   "metadata": {},
   "outputs": [],
   "source": [
    "# Import the environment\n",
    "from Env import CabDriver\n",
    "\n",
    "# create an environment object \n",
    "env = CabDriver()"
   ]
  },
  {
   "cell_type": "code",
   "execution_count": null,
   "metadata": {},
   "outputs": [],
   "source": [
    "# Loading the time matrix provided\n",
    "Time_matrix = np.load(\"TM.npy\")"
   ]
  },
  {
   "cell_type": "markdown",
   "metadata": {},
   "source": [
    "#### Tracking the state-action pairs for checking convergence\n"
   ]
  },
  {
   "cell_type": "code",
   "execution_count": null,
   "metadata": {},
   "outputs": [],
   "source": [
    "# Creating directories for saving the model and graph if the directories doesn't exist\n",
    "directory_model = 'save_model'\n",
    "if not os.path.exists(directory_model):\n",
    "    os.makedirs(directory_model)"
   ]
  },
  {
   "cell_type": "code",
   "execution_count": null,
   "metadata": {},
   "outputs": [],
   "source": [
    "def Q_state(state):\n",
    "    str_state = \"\"\n",
    "    for s in state:\n",
    "        if s < 10:\n",
    "            str_state = str_state + \"0\" + str(s)\n",
    "        else:\n",
    "            str_state = str_state + str(s)\n",
    "    return str_state"
   ]
  },
  {
   "cell_type": "code",
   "execution_count": null,
   "metadata": {},
   "outputs": [],
   "source": [
    "# Defining a function which will add new Q-values to the Q-dictionary. \n",
    "def add_to_dict(state, q_val, action, epi):\n",
    "    state1 = Q_state(state)\n",
    "    \n",
    "    if action not in Q_dict[state1]:\n",
    "        Q_dict[state1][action]= []    \n",
    "    Q_dict[state1][action].append((epi, q_val))"
   ]
  },
  {
   "cell_type": "code",
   "execution_count": null,
   "metadata": {},
   "outputs": [],
   "source": [
    "# Function to save q-value for tracking states-action pair\n",
    "def save_tracking_states():\n",
    "    initialise_tracking_states()\n",
    "\n",
    "    for state in States_track.keys():\n",
    "        for action in States_track[state].keys():\n",
    "            print(state, action)\n",
    "            if state in Q_dict and action in Q_dict[state]:\n",
    "                States_track[state][action] += [q[1] for q in Q_dict[state][action]]\n",
    "    print(States_track)"
   ]
  },
  {
   "cell_type": "code",
   "execution_count": null,
   "metadata": {},
   "outputs": [],
   "source": [
    "# Function to save q-value for tracking states-action pair\n",
    "def initialise_tracking_states():\n",
    "    sample_q_values = [('020405', (2, 4)), \n",
    "                       ('031006', (3, 5)), \n",
    "                       ('040502', (4, 3)), \n",
    "                       ('011402', (1, 3))]    #select any 4 Q-values\n",
    "    for q_values in sample_q_values:\n",
    "        state = q_values[0]\n",
    "        action = q_values[1]\n",
    "        States_track[state][action] = []    #this is an array which will have appended values of that state-action pair for every 2000th episode         "
   ]
  },
  {
   "cell_type": "code",
   "execution_count": null,
   "metadata": {},
   "outputs": [],
   "source": [
    "# Defining a function to save the Q-dictionary as a pickle file\n",
    "def save_obj(obj, name ):\n",
    "    with open(name + '.pkl', 'wb') as f:\n",
    "        pickle.dump(obj, f, pickle.HIGHEST_PROTOCOL)"
   ]
  },
  {
   "cell_type": "code",
   "execution_count": null,
   "metadata": {},
   "outputs": [],
   "source": [
    "# Initialise Q_dictionary and States_tracked (for convergence)\n",
    "Q_dict = collections.defaultdict(dict)\n",
    "States_track = collections.defaultdict(dict)\n",
    "\n",
    "initialise_tracking_states()"
   ]
  },
  {
   "cell_type": "markdown",
   "metadata": {},
   "source": [
    "### Hyperparameters"
   ]
  },
  {
   "cell_type": "code",
   "execution_count": null,
   "metadata": {},
   "outputs": [],
   "source": [
    "#Defining parameters for the experiment\n",
    "\n",
    "Episodes = 1000\n",
    "AN_EPISOD_DAYS = 30                \n",
    "LR = 0.001                   #learning rate\n",
    "GAMMA = 0.91\n",
    "\n",
    "\n",
    "threshold = 100            #every these many episodes, the 4 Q-values will be stored/appended (convergence graphs)\n",
    "policy_threshold = 400    #every these many episodes,"
   ]
  },
  {
   "cell_type": "markdown",
   "metadata": {},
   "source": [
    "### Agent Class\n",
    "\n",
    "If you are using this framework, you need to fill the following to complete the following code block:\n",
    "1. State and Action Size\n",
    "2. Hyperparameters\n",
    "3. Create a neural-network model in function 'build_model()'\n",
    "4. Define epsilon-greedy strategy in function 'get_action()'\n",
    "5. Complete the function 'append_sample()'. This function appends the recent experience tuple <state, action, reward, new-state> to the memory\n",
    "6. Complete the 'train_model()' function with following logic:\n",
    "   - If the memory size is greater than mini-batch size, you randomly sample experiences from memory as per the mini-batch size and do the following:\n",
    "      - Initialise your input and output batch for training the model\n",
    "      - Calculate the target Q value for each sample: reward + gamma*max(Q(s'a,))\n",
    "      - Get Q(s', a) values from the last trained model\n",
    "      - Update the input batch as your encoded state and output batch as your Q-values\n",
    "      - Then fit your DQN model using the updated input and output batch."
   ]
  },
  {
   "cell_type": "code",
   "execution_count": null,
   "metadata": {},
   "outputs": [],
   "source": [
    "class DQNAgent:\n",
    "    \n",
    "    def __init__(self, state_size, action_size):\n",
    "        # Define size of state and action\n",
    "        self.state_size = state_size\n",
    "        self.action_size = action_size\n",
    "\n",
    "        # Write here: Specify you hyper parameters for the DQN\n",
    "        self.discount_factor = GAMMA\n",
    "        self.learning_rate =  LR     \n",
    "        self.epsilon = 1.0\n",
    "        self.epsilon_decay = 0.999\n",
    "        self.epsilon_min = 0.01\n",
    "        self.batch_size = 32 \n",
    "        self.train_start = 100\n",
    "        \n",
    "        # create replay memory using deque\n",
    "        self.memory = deque(maxlen=2000)\n",
    "\n",
    "        # create main model and target model\n",
    "        self.model = self.build_model()\n",
    "        self.target_model = self.build_model()\n",
    "\n",
    "        # ++ if model weights are available load it from file \n",
    "        #self.load_model_weights = load_weights\n",
    "        #if self.load_model_weights:\n",
    "        #    self.model.load_weights(\"./cardriver_dqn.h5\")\n",
    "            \n",
    "    def save_model_graph(self, suffix):\n",
    "        # serialize model to JSON\n",
    "        model_json = self.model.to_json()\n",
    "        with open(\"./\" + directory_model + \"/cardriver_model_\" + suffix + \".json\", \"w\") as json_file:\n",
    "            json_file.write(model_json)\n",
    "\n",
    "    # approximate Q function using Neural Network\n",
    "    def build_model(self):\n",
    "        # Write your code here: Add layers to your neural nets       \n",
    "        model = Sequential()\n",
    "\n",
    "        # Input Layer: 5 locations + 24 hours + 7 days = 36\n",
    "        # state [(1,0,0,0,0)(0 0 1 0 0 0  0 0 0 0 0 0 0 0 0 0 0 0 0 0 0 0 0 0)(1 0 0 0 0 0 0)]\n",
    "        \n",
    "        # Hidden layers: 1, 2, 3, 4 \n",
    "        model.add(Dense(32, input_dim=self.state_size, activation='relu', kernel_initializer='he_uniform'))\n",
    "        model.add(Dense(32, activation='relu', kernel_initializer='he_uniform'))\n",
    "        model.add(Dense(32, activation='relu', kernel_initializer='he_uniform'))\n",
    "        model.add(Dense(32, activation='relu', kernel_initializer='he_uniform'))\n",
    "\n",
    "        # Output Layer [Q(s,a1), Q(s,a2), ...... Q(s,ak)], k=21        \n",
    "        model.add(Dense(self.action_size, activation='relu', kernel_initializer='he_uniform'))\n",
    "        \n",
    "        model.compile(loss='mse', optimizer=Adam(lr=self.learning_rate))\n",
    "        model.summary()\n",
    "        return model\n",
    "\n",
    "    \n",
    "    def update_target_model(self):\n",
    "        # update the target Q-value network to current Q-value network after training for a episode. \n",
    "        # this means that weights an biases of target Q-value network will become same as current Q-value network.\n",
    "        self.target_model.set_weights(self.model.get_weights())\n",
    "    \n",
    "    \n",
    "#     def get_action(self, state):\n",
    "#         # Write your code here:\n",
    "#         # get action from model using epsilon-greedy policy\n",
    "#         # Decay in ε after we generate each sample from the environment       \n",
    "        \n",
    "#         q_value = self.model.predict(state)\n",
    "#         if np.random.rand() <= self.epsilon:\n",
    "#             # explore: choose a random action from all possible actions\n",
    "#             # in case of cartpole this will randomly choose an action between 0 and 1\n",
    "#             index = random.randrange(self.action_size)\n",
    "#         else:\n",
    "#             # choose the action with the highest q(s, a)\n",
    "#             # the first index corresponds to the batch size, so\n",
    "#             index = np.argmax(q_value[0])\n",
    "        \n",
    "#         return index, q_value[0][index]\n",
    "    \n",
    "    def get_action(self, state, possible_actions):\n",
    "        q_values = self.model.predict(state)\n",
    "        if np.random.rand() <= self.epsilon:\n",
    "            # explore: choose a random action from all possible actions\n",
    "            # possible actions list would be given by environment\n",
    "            choice = random.choice(possible_actions)\n",
    "        else:\n",
    "            # choose the action with the highest q(s, a)\n",
    "            #q_values = self.model.predict(state)\n",
    "            possible_action_q_values = [q_values[0][index] for index in possible_actions]\n",
    "            max_q_value = np.max(possible_action_q_values)\n",
    "            choice = list(q_values[0]).index(max_q_value)\n",
    "\n",
    "        return choice, q_values[0][choice]\n",
    "\n",
    "    \n",
    "    def append_sample(self, state, action, reward, next_state, done):\n",
    "        # Write your code here:\n",
    "        # save sample <s,a,r,s'> to the replay memory\n",
    "        # append the tuple (s, a, r, s', done) to memory (replay buffer) after every action\n",
    "        self.memory.append((state, action, reward, next_state, done))\n",
    "    \n",
    "        # Decay in ε after we generate each sample from the environment\n",
    "        if self.epsilon > self.epsilon_min:\n",
    "            self.epsilon *= self.epsilon_decay    \n",
    "    \n",
    "    \n",
    "    # pick samples randomly from replay memory (with batch_size) and train the network\n",
    "    def train_model(self):\n",
    "        \"\"\"\n",
    "        Complete the 'train_model()' function with following logic:\n",
    "        \n",
    "        If the memory size is greater than mini-batch size, you randomly sample experiences \n",
    "        from memory as per the mini-batch size and do the following:\n",
    "        \n",
    "            1. Initialise your input and output batch for training the model\n",
    "            2. Calculate the target Q value for each sample: reward + gamma*max(Q(s'a,))\n",
    "            3. Get Q(s', a) values from the last trained model\n",
    "            4. Update the input batch as your encoded state and output batch as your Q-values\n",
    "            5. Then fit your DQN model using the updated input and output batch.        \n",
    "        \"\"\"\n",
    "        if len(self.memory) < self.train_start:\n",
    "            return\n",
    "        \n",
    "        # Sample batch from the memory\n",
    "        batch_size = min(self.batch_size, len(self.memory))\n",
    "        mini_batch = random.sample(self.memory, self.batch_size)\n",
    "\n",
    "        # 1. Initialise your input and output batch for training the model\n",
    "        update_input = np.zeros((self.batch_size, self.state_size))\n",
    "        update_target = np.zeros((self.batch_size, self.state_size)) \n",
    "        actions, rewards, terminal_states = [], [], []\n",
    "\n",
    "        for i in range(self.batch_size):\n",
    "            # Write your code from here\n",
    "\n",
    "            update_input[i] = mini_batch[i][0]\n",
    "            actions.append(mini_batch[i][1])\n",
    "            rewards.append(mini_batch[i][2])\n",
    "            update_target[i] = mini_batch[i][3]\n",
    "            terminal_states.append(mini_batch[i][4])\n",
    "\n",
    "        # 1. Predict the target from earlier model\n",
    "        target = self.model.predict(update_input)\n",
    "\n",
    "        # 2. Get the target for the Q-network\n",
    "        target_qval = self.target_model.predict(update_target)  \n",
    "\n",
    "        for i in range(self.batch_size):\n",
    "            if terminal_states[i]:\n",
    "                target[i][actions[i]] = rewards[i]\n",
    "            else: # non-terminal state\n",
    "                target[i][actions[i]] = rewards[i] + self.discount_factor * np.max(target_qval[i])\n",
    "\n",
    "        # 4. Fit your model and track the loss values\n",
    "        self.model.fit(update_input, target, batch_size=self.batch_size, epochs=1, verbose=0)\n",
    "\n",
    "    \n",
    "    def get_model_weights(self):\n",
    "        return self.model.get_weights()\n",
    "    \n",
    "    \n",
    "    def save(self, name):\n",
    "        self.model.save_weights(name)"
   ]
  },
  {
   "cell_type": "markdown",
   "metadata": {},
   "source": [
    "### DQN block"
   ]
  },
  {
   "cell_type": "code",
   "execution_count": null,
   "metadata": {},
   "outputs": [],
   "source": [
    "scores, episodes = [], []\n",
    "state = env.state_init\n",
    "state_encoded = env.state_encod_arch1(state)\n",
    "state_size = len(state_encoded)\n",
    "action_size = len(env.action_space)\n",
    "agent = DQNAgent(state_size, action_size)\n",
    "\n",
    "for episode in range(Episodes):\n",
    "\n",
    "    # Write code here\n",
    "    # Call the environment\n",
    "    # Call all the initialised variables of the environment\n",
    "    \n",
    "    terminal_state = False\n",
    "    score = 0\n",
    "    reward = 0\n",
    "    total_days = 1\n",
    "    previous_day = 0\n",
    "    current_day = 0\n",
    "    env.reset()\n",
    "    state = env.state_init\n",
    "    \n",
    "    #Call the DQN agent\n",
    "                       \n",
    "    while not terminal_state:\n",
    "        \n",
    "        # Write your code here\n",
    "        # 1. Pick epsilon-greedy action from possible actions for the current state\n",
    "        # 2. Evaluate your reward and next state\n",
    "        # 3. Append the experience to the memory\n",
    "        # 4. Train the model by calling function agent.train_model\n",
    "        # 5. Keep a track of rewards, Q-values, loss\n",
    "        \n",
    "        state_encoded = env.state_encod_arch1(state)\n",
    "        state_encoded = np.reshape(state_encoded, [1, state_size])\n",
    "        \n",
    "        # get possible list of actions from the environment\n",
    "        possible_actions, action_list = env.requests(state)\n",
    "        \n",
    "        action, q_val = agent.get_action(state_encoded, possible_actions)\n",
    "        \n",
    "        reward = env.reward_func(state, env.action_space[action], Time_matrix)\n",
    "        next_state = env.next_state_func(state, env.action_space[action], Time_matrix)\n",
    "        next_state_encoded = env.state_encod_arch1(next_state)\n",
    "        next_state_encoded = np.reshape(next_state_encoded, [1, state_size])\n",
    "        \n",
    "        agent.append_sample(state_encoded, action, reward, next_state_encoded, terminal_state)\n",
    "        \n",
    "        add_to_dict(state, q_val, env.action_space[action], episode)\n",
    "        \n",
    "        agent.train_model()\n",
    "        \n",
    "        score += reward\n",
    "        previous_day = state[2]\n",
    "        state = next_state\n",
    "        current_day = state[2]\n",
    "        if previous_day != current_day:\n",
    "            total_days = total_days + 1\n",
    "            \n",
    "        if total_days > AN_EPISOD_DAYS:\n",
    "            terminal_state = True\n",
    "            \n",
    "        if terminal_state == True:\n",
    "            agent.update_target_model()\n",
    "            scores.append(score)\n",
    "            episodes.append(episode)  \n",
    "    \n",
    "    print(\"Episode:\", episode, \"  score:\", score, \"  memory length:\", len(agent.memory), \"  epsilon:\", agent.epsilon)\n",
    "\n",
    "    #TRACKING Q-VALUES\n",
    "    if ((episode+1) % threshold) == 0:   #every threshold episode\n",
    "        save_tracking_states()\n",
    "        save_obj(States_track,'States_tracked')\n",
    "\n",
    "    \n",
    "    # plot episode versus score \n",
    "    if episode % threshold == 0: \n",
    "        pylab.plot(episodes, scores)\n",
    "        pylab.savefig(\"./\" + directory_model + \"/cardriver_dqn_\" + str(score) + \".png\")    \n",
    "    \n",
    "    #save the model \n",
    "    if episode % policy_threshold == 0:         \n",
    "        # Model binary h5 file\n",
    "        agent.save(\"./\" + directory_model + \"/cardriver_dqn_\" + str(score) + \".h5\")\n",
    "        \n",
    "        # Model pickle file\n",
    "        save_obj(agent.get_model_weights(), \"./\" + directory_model + \"/cardriver_dqn_\" + str(score))\n",
    "    \n",
    "    #SAVING POLICY\n",
    "    if ((episode+1)% policy_threshold ) == 0:  #every policy_threshold episodes, the Q-dict will be saved\n",
    "        save_obj(Q_dict,'Policy')  \n",
    "        "
   ]
  },
  {
   "cell_type": "code",
   "execution_count": null,
   "metadata": {},
   "outputs": [],
   "source": []
  },
  {
   "cell_type": "markdown",
   "metadata": {},
   "source": [
    "### Tracking Convergence"
   ]
  },
  {
   "cell_type": "code",
   "execution_count": null,
   "metadata": {},
   "outputs": [],
   "source": [
    "Q_dict\n"
   ]
  },
  {
   "cell_type": "code",
   "execution_count": null,
   "metadata": {},
   "outputs": [],
   "source": [
    "# Q-Values for state-action pairs is obtained for diffrent episodes\n",
    "#------------------------------------------------------------------\n",
    "# Location C for 17:00 hours on TUESDAY\n",
    "# result dictionary contains: \n",
    "# {(Action-Pair): [(Episode1, Q(s,a)), (Episode2, Q(s,a)),....]} \n",
    "\n",
    "Q_dict[\"031701\"]"
   ]
  },
  {
   "cell_type": "code",
   "execution_count": null,
   "metadata": {},
   "outputs": [],
   "source": [
    "# Q Value Tracking Location C for 17:00 hours on TUESDAY for action location C->D\n",
    "# result dictionary contains: \n",
    "# [(Episode_ID: Q(s,a)), ...]} \n",
    "\n",
    "print(\"All actions taken from state 031701 : {}\\n\".format(Q_dict[\"031701\"].keys()))\n",
    "\n",
    "print(\"All Q-values for action (3, 4) :  (EpisodeID, Q-value)\")\n",
    "if (3, 4) in Q_dict[\"031701\"]:\n",
    "    print(Q_dict[\"031701\"][(3, 4)])\n"
   ]
  },
  {
   "cell_type": "code",
   "execution_count": null,
   "metadata": {},
   "outputs": [],
   "source": [
    "# Convergence graphs: Total Q-value per episode\n",
    "\n",
    "pylab.plot(episodes, scores)"
   ]
  },
  {
   "cell_type": "code",
   "execution_count": null,
   "metadata": {},
   "outputs": [],
   "source": [
    "# TRACKING Q-VALUES FOR DEFINED STATE & ACTION\n",
    "States_track"
   ]
  },
  {
   "cell_type": "code",
   "execution_count": null,
   "metadata": {},
   "outputs": [],
   "source": [
    "# Q value for state [\"031006\"] and action [(3, 5)]\n",
    "Q_dict[\"031006\"][(3, 5)]"
   ]
  },
  {
   "cell_type": "markdown",
   "metadata": {},
   "source": [
    "#### Epsilon-decay sample function"
   ]
  },
  {
   "cell_type": "markdown",
   "metadata": {},
   "source": [
    "<div class=\"alert alert-block alert-info\">\n",
    "Try building a similar epsilon-decay function for your model.\n",
    "</div>"
   ]
  },
  {
   "cell_type": "code",
   "execution_count": null,
   "metadata": {},
   "outputs": [],
   "source": [
    "time = np.arange(0,10000)\n",
    "epsilon = []\n",
    "for i in range(0,10000):\n",
    "    epsilon.append(0 + (1 - 0) * np.exp(-0.0009*i))"
   ]
  },
  {
   "cell_type": "code",
   "execution_count": null,
   "metadata": {},
   "outputs": [],
   "source": [
    "plt.plot(time, epsilon)\n",
    "plt.show()"
   ]
  }
 ],
 "metadata": {
  "kernelspec": {
   "display_name": "Python 3",
   "language": "python",
   "name": "python3"
  },
  "language_info": {
   "codemirror_mode": {
    "name": "ipython",
    "version": 3
   },
   "file_extension": ".py",
   "mimetype": "text/x-python",
   "name": "python",
   "nbconvert_exporter": "python",
   "pygments_lexer": "ipython3",
   "version": "3.6.5"
  }
 },
 "nbformat": 4,
 "nbformat_minor": 2
}
